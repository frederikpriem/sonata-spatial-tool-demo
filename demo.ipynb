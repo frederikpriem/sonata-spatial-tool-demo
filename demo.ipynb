{
 "cells": [
  {
   "cell_type": "markdown",
   "id": "f73adf56-cfe7-4bcb-8685-dbd35fc53e14",
   "metadata": {},
   "source": [
    "Let's start with importing the dependencies!"
   ]
  },
  {
   "cell_type": "code",
   "execution_count": null,
   "id": "3691c34f-2986-4495-ac14-539011260466",
   "metadata": {},
   "outputs": [],
   "source": [
    "import rasterio\n",
    "import deap\n",
    "import numpy\n",
    "import scipy\n",
    "import pydantic\n",
    "import tqdm\n",
    "import pyyaml\n",
    "\n",
    "print('okidoki')"
   ]
  }
 ],
 "metadata": {
  "kernelspec": {
   "display_name": "Python 3",
   "language": "python",
   "name": "python3"
  },
  "language_info": {
   "codemirror_mode": {
    "name": "ipython",
    "version": 3
   },
   "file_extension": ".py",
   "mimetype": "text/x-python",
   "name": "python",
   "nbconvert_exporter": "python",
   "pygments_lexer": "ipython3",
   "version": "3.12.8"
  }
 },
 "nbformat": 4,
 "nbformat_minor": 5
}
